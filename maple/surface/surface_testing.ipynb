{
 "cells": [
  {
   "cell_type": "code",
   "execution_count": 1,
   "metadata": {},
   "outputs": [
    {
     "ename": "ModuleNotFoundError",
     "evalue": "No module named 'maple'",
     "output_type": "error",
     "traceback": [
      "\u001b[1;31m---------------------------------------------------------------------------\u001b[0m",
      "\u001b[1;31mModuleNotFoundError\u001b[0m                       Traceback (most recent call last)",
      "Cell \u001b[1;32mIn[1], line 1\u001b[0m\n\u001b[1;32m----> 1\u001b[0m \u001b[38;5;28;01mfrom\u001b[39;00m \u001b[38;5;21;01mmap\u001b[39;00m \u001b[38;5;28;01mimport\u001b[39;00m SurfaceHeight\n\u001b[0;32m      2\u001b[0m \u001b[38;5;28;01mimport\u001b[39;00m \u001b[38;5;21;01mnumpy\u001b[39;00m\n\u001b[0;32m      3\u001b[0m \u001b[38;5;28;01mimport\u001b[39;00m \u001b[38;5;21;01mmatplotlib\u001b[39;00m\u001b[38;5;21;01m.\u001b[39;00m\u001b[38;5;21;01mpyplot\u001b[39;00m \u001b[38;5;28;01mas\u001b[39;00m \u001b[38;5;21;01mplt\u001b[39;00m\n",
      "File \u001b[1;32mc:\\Users\\corma\\Documents\\Github\\HorizontalRing\\MAPLE\\maple\\surface\\map.py:4\u001b[0m\n\u001b[0;32m      2\u001b[0m \u001b[38;5;28;01mfrom\u001b[39;00m \u001b[38;5;21;01mnumpy\u001b[39;00m\u001b[38;5;21;01m.\u001b[39;00m\u001b[38;5;21;01mtyping\u001b[39;00m \u001b[38;5;28;01mimport\u001b[39;00m NDArray\n\u001b[0;32m      3\u001b[0m \u001b[38;5;28;01mfrom\u001b[39;00m \u001b[38;5;21;01mpytransform3d\u001b[39;00m\u001b[38;5;21;01m.\u001b[39;00m\u001b[38;5;21;01mtransformations\u001b[39;00m \u001b[38;5;28;01mimport\u001b[39;00m concat, transform_from\n\u001b[1;32m----> 4\u001b[0m \u001b[38;5;28;01mfrom\u001b[39;00m \u001b[38;5;21;01mmaple\u001b[39;00m\u001b[38;5;21;01m.\u001b[39;00m\u001b[38;5;21;01mgeometry\u001b[39;00m \u001b[38;5;28;01mimport\u001b[39;00m rover\n\u001b[0;32m      5\u001b[0m \u001b[38;5;28;01mfrom\u001b[39;00m \u001b[38;5;21;01mmaple\u001b[39;00m\u001b[38;5;21;01m.\u001b[39;00m\u001b[38;5;21;01msurface\u001b[39;00m\u001b[38;5;21;01m.\u001b[39;00m\u001b[38;5;21;01mpost_processing\u001b[39;00m \u001b[38;5;28;01mimport\u001b[39;00m PostProcessor\n\u001b[0;32m      7\u001b[0m \u001b[38;5;66;03m# DO NOT IMPORT MATPLOTLIB IN CODE THE ROVER USES!!!!\u001b[39;00m\n\u001b[0;32m      8\u001b[0m \u001b[38;5;66;03m# import matplotlib\u001b[39;00m\n\u001b[0;32m      9\u001b[0m \u001b[38;5;66;03m# matplotlib.use(\"Agg\")  # Set the backend before importing pyplot\u001b[39;00m\n\u001b[0;32m     10\u001b[0m \u001b[38;5;66;03m# import matplotlib.pyplot as plt\u001b[39;00m\n",
      "\u001b[1;31mModuleNotFoundError\u001b[0m: No module named 'maple'"
     ]
    }
   ],
   "source": [
    "from map import SurfaceHeight\n",
    "import numpy\n",
    "import matplotlib.pyplot as plt"
   ]
  },
  {
   "cell_type": "code",
   "execution_count": null,
   "metadata": {},
   "outputs": [],
   "source": [
    "import sys\n",
    "from dataclasses import dataclass\n",
    "\n",
    "from pytest import fixture\n",
    "\n",
    "\n",
    "@fixture\n",
    "def mock_geometric_map(mocker):\n",
    "    \"\"\"Fixture for mocking GeometricMap\"\"\"\n",
    "\n",
    "    # Mock carla\n",
    "    mocker.patch.dict(sys.modules, {\"carla\": mocker.MagicMock()})\n",
    "\n",
    "    # Import after mocking carla\n",
    "    from leaderboard.agents.geometric_map import GeometricMap\n",
    "\n",
    "    @dataclass\n",
    "    class Constants:\n",
    "        map_size: float  # overall map width [m]\n",
    "        cell_size: float  # individual cell width [m]\n",
    "        cell_number: int  # number of cells [#]\n",
    "\n",
    "    geometric_map = GeometricMap(Constants(9, 0.15, 60))\n",
    "\n",
    "    return geometric_map"
   ]
  },
  {
   "cell_type": "code",
   "execution_count": null,
   "metadata": {},
   "outputs": [],
   "source": [
    "# Load the csv representing the sample data. It is in the form of [x0,y0,z0],[x1,y1,z1],...\n",
    "data = numpy.loadtxt('sample_data.csv', delimiter=',', dtype=float)\n",
    "# Represent the data as a list of lists: [[x0,y0,z0],[x1,y1,z1],...]\n",
    "data = data.tolist()"
   ]
  },
  {
   "cell_type": "code",
   "execution_count": null,
   "metadata": {},
   "outputs": [],
   "source": [
    "mock_geo_map = mock_geometric_map\n",
    "surfaceHeight = SurfaceHeight(mock_geo_map)\n",
    "surfaceHeight._generate_map(data)"
   ]
  }
 ],
 "metadata": {
  "kernelspec": {
   "display_name": "base",
   "language": "python",
   "name": "python3"
  },
  "language_info": {
   "codemirror_mode": {
    "name": "ipython",
    "version": 3
   },
   "file_extension": ".py",
   "mimetype": "text/x-python",
   "name": "python",
   "nbconvert_exporter": "python",
   "pygments_lexer": "ipython3",
   "version": "3.11.5"
  }
 },
 "nbformat": 4,
 "nbformat_minor": 2
}
